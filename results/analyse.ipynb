{
 "cells": [
  {
   "cell_type": "code",
   "execution_count": 3,
   "metadata": {},
   "outputs": [
    {
     "data": {
      "text/html": [
       "<div>\n",
       "<style scoped>\n",
       "    .dataframe tbody tr th:only-of-type {\n",
       "        vertical-align: middle;\n",
       "    }\n",
       "\n",
       "    .dataframe tbody tr th {\n",
       "        vertical-align: top;\n",
       "    }\n",
       "\n",
       "    .dataframe thead th {\n",
       "        text-align: right;\n",
       "    }\n",
       "</style>\n",
       "<table border=\"1\" class=\"dataframe\">\n",
       "  <thead>\n",
       "    <tr style=\"text-align: right;\">\n",
       "      <th></th>\n",
       "      <th>dial_id</th>\n",
       "      <th>trues</th>\n",
       "      <th>preds</th>\n",
       "      <th>EasilyReadableText</th>\n",
       "      <th>StandardReadableText</th>\n",
       "      <th>HardlyReadableText</th>\n",
       "    </tr>\n",
       "  </thead>\n",
       "  <tbody>\n",
       "    <tr>\n",
       "      <th>0</th>\n",
       "      <td>1091</td>\n",
       "      <td>1</td>\n",
       "      <td>1</td>\n",
       "      <td>1.834745e-09</td>\n",
       "      <td>1.944853e-09</td>\n",
       "      <td>1.689840e-09</td>\n",
       "    </tr>\n",
       "    <tr>\n",
       "      <th>1</th>\n",
       "      <td>4182</td>\n",
       "      <td>1</td>\n",
       "      <td>1</td>\n",
       "      <td>3.482936e-09</td>\n",
       "      <td>3.681718e-09</td>\n",
       "      <td>3.378960e-09</td>\n",
       "    </tr>\n",
       "    <tr>\n",
       "      <th>2</th>\n",
       "      <td>418</td>\n",
       "      <td>0</td>\n",
       "      <td>1</td>\n",
       "      <td>3.361131e-09</td>\n",
       "      <td>3.463673e-09</td>\n",
       "      <td>3.294675e-09</td>\n",
       "    </tr>\n",
       "    <tr>\n",
       "      <th>3</th>\n",
       "      <td>1719</td>\n",
       "      <td>1</td>\n",
       "      <td>1</td>\n",
       "      <td>3.852622e-09</td>\n",
       "      <td>3.951416e-09</td>\n",
       "      <td>3.398845e-09</td>\n",
       "    </tr>\n",
       "    <tr>\n",
       "      <th>4</th>\n",
       "      <td>2090</td>\n",
       "      <td>2</td>\n",
       "      <td>1</td>\n",
       "      <td>4.091012e-09</td>\n",
       "      <td>4.250654e-09</td>\n",
       "      <td>3.737084e-09</td>\n",
       "    </tr>\n",
       "  </tbody>\n",
       "</table>\n",
       "</div>"
      ],
      "text/plain": [
       "   dial_id  trues  preds  EasilyReadableText  StandardReadableText  \\\n",
       "0     1091      1      1        1.834745e-09          1.944853e-09   \n",
       "1     4182      1      1        3.482936e-09          3.681718e-09   \n",
       "2      418      0      1        3.361131e-09          3.463673e-09   \n",
       "3     1719      1      1        3.852622e-09          3.951416e-09   \n",
       "4     2090      2      1        4.091012e-09          4.250654e-09   \n",
       "\n",
       "   HardlyReadableText  \n",
       "0        1.689840e-09  \n",
       "1        3.378960e-09  \n",
       "2        3.294675e-09  \n",
       "3        3.398845e-09  \n",
       "4        3.737084e-09  "
      ]
     },
     "execution_count": 3,
     "metadata": {},
     "output_type": "execute_result"
    }
   ],
   "source": [
    "import numpy as np\n",
    "import pandas as pd\n",
    "import matplotlib.pyplot as plt\n",
    "import plotly.express as px\n",
    "\n",
    "train = pd.read_csv('first_test.csv', sep=';')\n",
    "train.head()"
   ]
  },
  {
   "cell_type": "markdown",
   "metadata": {},
   "source": [
    "### Display the class distributions"
   ]
  },
  {
   "cell_type": "code",
   "execution_count": 33,
   "metadata": {},
   "outputs": [],
   "source": [
    "class_balance = train.trues.value_counts()\n",
    "pred_balance = train.preds.value_counts()\n",
    "balance_df = pd.DataFrame({'class':['StandardReadableText', 'EasilyReadableText', 'HardlyReadableText'], 'class_val':class_balance.values.tolist()})\n",
    "fig = balance_df.plot.bar(x='class', y='val')\n",
    "fig.write_html(\"class_distributions.html\")"
   ]
  },
  {
   "cell_type": "code",
   "execution_count": 52,
   "metadata": {},
   "outputs": [
    {
     "data": {
      "text/html": [
       "<div>\n",
       "<style scoped>\n",
       "    .dataframe tbody tr th:only-of-type {\n",
       "        vertical-align: middle;\n",
       "    }\n",
       "\n",
       "    .dataframe tbody tr th {\n",
       "        vertical-align: top;\n",
       "    }\n",
       "\n",
       "    .dataframe thead th {\n",
       "        text-align: right;\n",
       "    }\n",
       "</style>\n",
       "<table border=\"1\" class=\"dataframe\">\n",
       "  <thead>\n",
       "    <tr style=\"text-align: right;\">\n",
       "      <th></th>\n",
       "      <th>class</th>\n",
       "      <th>val_class</th>\n",
       "      <th>val_pred</th>\n",
       "    </tr>\n",
       "  </thead>\n",
       "  <tbody>\n",
       "    <tr>\n",
       "      <th>0</th>\n",
       "      <td>StandardReadableText</td>\n",
       "      <td>343</td>\n",
       "      <td>583</td>\n",
       "    </tr>\n",
       "    <tr>\n",
       "      <th>1</th>\n",
       "      <td>EasilyReadableText</td>\n",
       "      <td>204</td>\n",
       "      <td>15</td>\n",
       "    </tr>\n",
       "    <tr>\n",
       "      <th>2</th>\n",
       "      <td>HardlyReadableText</td>\n",
       "      <td>51</td>\n",
       "      <td>0</td>\n",
       "    </tr>\n",
       "  </tbody>\n",
       "</table>\n",
       "</div>"
      ],
      "text/plain": [
       "                  class  val_class  val_pred\n",
       "0  StandardReadableText        343       583\n",
       "1    EasilyReadableText        204        15\n",
       "2    HardlyReadableText         51         0"
      ]
     },
     "execution_count": 52,
     "metadata": {},
     "output_type": "execute_result"
    }
   ],
   "source": [
    "class_balance = train.trues.value_counts()\n",
    "class_df = pd.DataFrame({'class':['StandardReadableText', 'EasilyReadableText', 'HardlyReadableText'], 'val_class':class_balance.values.tolist()})\n",
    "pred_df = pd.DataFrame({'class':['StandardReadableText', 'EasilyReadableText'], 'val_pred':pred_balance.values.tolist()})\n",
    "pred_df.loc[2] = [\"HardlyReadableText\", 0]\n",
    "\n",
    "distrib_df = pd.merge(class_df, pred_df, on='class', how='outer')\n",
    "distrib_df"
   ]
  },
  {
   "cell_type": "code",
   "execution_count": 54,
   "metadata": {},
   "outputs": [
    {
     "data": {
      "image/png": "[encoded data removed]",
      "text/plain": [
       "<Figure size 1000x600 with 1 Axes>"
      ]
     },
     "metadata": {},
     "output_type": "display_data"
    }
   ],
   "source": [
    "# Plotting\n",
    "fig, ax = plt.subplots(figsize=(10, 6))\n",
    "\n",
    "bar_width = 0.35\n",
    "index = range(len(distrib_df))\n",
    "\n",
    "bar1 = ax.bar(index, distrib_df['val_class'], bar_width, label='Actual classes')\n",
    "bar2 = ax.bar([i + bar_width for i in index], distrib_df['val_pred'], bar_width, label='Predicted classes')\n",
    "\n",
    "ax.set_xlabel('Classes')\n",
    "ax.set_ylabel('Value counts')\n",
    "ax.set_title('Class distributions for actual classes and predicted classes (train set, 1 epoch)')\n",
    "ax.set_xticks([i + bar_width/2 for i in index])\n",
    "ax.set_xticklabels(distrib_df['class'])\n",
    "ax.legend()\n",
    "\n",
    "plt.show()"
   ]
  },
  {
   "cell_type": "code",
   "execution_count": null,
   "metadata": {},
   "outputs": [],
   "source": []
  },
  {
   "cell_type": "code",
   "execution_count": null,
   "metadata": {},
   "outputs": [],
   "source": []
  }
 ],
 "metadata": {
  "kernelspec": {
   "display_name": "Python 3",
   "language": "python",
   "name": "python3"
  },
  "language_info": {
   "codemirror_mode": {
    "name": "ipython",
    "version": 3
   },
   "file_extension": ".py",
   "mimetype": "text/x-python",
   "name": "python",
   "nbconvert_exporter": "python",
   "pygments_lexer": "ipython3",
   "version": "3.11.6"
  }
 },
 "nbformat": 4,
 "nbformat_minor": 2
}
